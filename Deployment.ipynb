{
 "cells": [
  {
   "cell_type": "code",
   "execution_count": 1,
   "id": "b8fd7670",
   "metadata": {},
   "outputs": [],
   "source": [
    "# Cargar librerías necesarias\n",
    "import json\n",
    "from azureml.core import Workspace, Model, Environment\n",
    "from azureml.core.conda_dependencies import CondaDependencies\n",
    "from azureml.core.model import InferenceConfig\n",
    "from azureml.core.webservice import AciWebservice"
   ]
  },
  {
   "cell_type": "code",
   "execution_count": 5,
   "id": "dc9886bb",
   "metadata": {},
   "outputs": [],
   "source": [
    "# Open config from .json file\n",
    "with open('keys.json') as config_file:\n",
    "    config = json.load(config_file)\n",
    "\n",
    "# Cargar id\n",
    "id = config['Azure_ID']"
   ]
  },
  {
   "cell_type": "code",
   "execution_count": null,
   "id": "03d9aa09",
   "metadata": {},
   "outputs": [
    {
     "ename": "UserErrorException",
     "evalue": "UserErrorException:\n\tMessage: You are currently logged-in to c65a3ea6-0f7c-400b-8934-5a6dc1705645 tenant. You don't have access to 85122af0-96c1-4e25-b6c8-b59805cf664f subscription, please check if it is in this tenant. All the subscriptions that you have access to in this tenant are = \n [SubscriptionInfo(subscription_name='Visual Studio Enterprise Subscription Cad', subscription_id='90eaa2d9-15dc-4bc3-9c4f-2c580923e179'), SubscriptionInfo(subscription_name='Azure subscription 1', subscription_id='cf842899-b4df-4f27-ba04-2e357f216505')]. \n Please refer to aka.ms/aml-notebook-auth for different authentication mechanisms in azureml-sdk.\n\tInnerException None\n\tErrorResponse \n{\n    \"error\": {\n        \"code\": \"UserError\",\n        \"message\": \"You are currently logged-in to c65a3ea6-0f7c-400b-8934-5a6dc1705645 tenant. You don't have access to 85122af0-96c1-4e25-b6c8-b59805cf664f subscription, please check if it is in this tenant. All the subscriptions that you have access to in this tenant are = \\n [SubscriptionInfo(subscription_name='Visual Studio Enterprise Subscription Cad', subscription_id='90eaa2d9-15dc-4bc3-9c4f-2c580923e179'), SubscriptionInfo(subscription_name='Azure subscription 1', subscription_id='cf842899-b4df-4f27-ba04-2e357f216505')]. \\n Please refer to aka.ms/aml-notebook-auth for different authentication mechanisms in azureml-sdk.\"\n    }\n}",
     "output_type": "error",
     "traceback": [
      "\u001b[31m---------------------------------------------------------------------------\u001b[39m",
      "\u001b[31mUserErrorException\u001b[39m                        Traceback (most recent call last)",
      "\u001b[36mCell\u001b[39m\u001b[36m \u001b[39m\u001b[32mIn[6]\u001b[39m\u001b[32m, line 2\u001b[39m\n\u001b[32m      1\u001b[39m \u001b[38;5;66;03m# Crear el workspace de Azure\u001b[39;00m\n\u001b[32m----> \u001b[39m\u001b[32m2\u001b[39m ws = \u001b[43mWorkspace\u001b[49m\u001b[43m.\u001b[49m\u001b[43mcreate\u001b[49m\u001b[43m(\u001b[49m\u001b[43mname\u001b[49m\u001b[43m=\u001b[49m\u001b[33;43m\"\u001b[39;49m\u001b[33;43mSales-LT-ML\u001b[39;49m\u001b[33;43m\"\u001b[39;49m\u001b[43m,\u001b[49m\n\u001b[32m      3\u001b[39m \u001b[43m                   \u001b[49m\u001b[43msubscription_id\u001b[49m\u001b[43m=\u001b[49m\u001b[38;5;28;43mid\u001b[39;49m\u001b[43m,\u001b[49m\n\u001b[32m      4\u001b[39m \u001b[43m                   \u001b[49m\u001b[43mresource_group\u001b[49m\u001b[43m=\u001b[49m\u001b[33;43m'\u001b[39;49m\u001b[33;43mclass-servicio-sql\u001b[39;49m\u001b[33;43m'\u001b[39;49m\u001b[43m,\u001b[49m\n\u001b[32m      5\u001b[39m \u001b[43m                   \u001b[49m\u001b[43mlocation\u001b[49m\u001b[43m \u001b[49m\u001b[43m=\u001b[49m\u001b[33;43m'\u001b[39;49m\u001b[33;43mcentralindia\u001b[39;49m\u001b[33;43m'\u001b[39;49m\u001b[43m)\u001b[49m \u001b[38;5;66;03m# centralindia\u001b[39;00m\n",
      "\u001b[36mFile \u001b[39m\u001b[32mc:\\Users\\aesca\\Documents\\TEC\\Académico\\8vo semestre\\Cómputo en la nube\\Servicio-SQL\\myvenv\\Lib\\site-packages\\azureml\\core\\workspace.py:516\u001b[39m, in \u001b[36mWorkspace.create\u001b[39m\u001b[34m(name, auth, subscription_id, resource_group, location, create_resource_group, sku, tags, friendly_name, storage_account, key_vault, app_insights, container_registry, adb_workspace, primary_user_assigned_identity, cmk_keyvault, resource_cmk_uri, hbi_workspace, default_cpu_compute_target, default_gpu_compute_target, private_endpoint_config, private_endpoint_auto_approval, exist_ok, show_output, user_assigned_identity_for_cmk_encryption, system_datastores_auth_mode, v1_legacy_mode)\u001b[39m\n\u001b[32m    512\u001b[39m     resource_group = Workspace._get_resource_name_from_workspace_name(\n\u001b[32m    513\u001b[39m         name, \u001b[33m\"\u001b[39m\u001b[33mresource_group\u001b[39m\u001b[33m\"\u001b[39m)\n\u001b[32m    515\u001b[39m \u001b[38;5;28;01mif\u001b[39;00m location:\n\u001b[32m--> \u001b[39m\u001b[32m516\u001b[39m     available_locations = \u001b[43m_available_workspace_locations\u001b[49m\u001b[43m(\u001b[49m\n\u001b[32m    517\u001b[39m \u001b[43m        \u001b[49m\u001b[43msubscription_id\u001b[49m\u001b[43m,\u001b[49m\u001b[43m \u001b[49m\u001b[43mauth\u001b[49m\u001b[43m)\u001b[49m\n\u001b[32m    518\u001b[39m     available_locations = [x.lower().replace(\u001b[33m'\u001b[39m\u001b[33m \u001b[39m\u001b[33m'\u001b[39m, \u001b[33m'\u001b[39m\u001b[33m'\u001b[39m)\n\u001b[32m    519\u001b[39m                            \u001b[38;5;28;01mfor\u001b[39;00m x \u001b[38;5;129;01min\u001b[39;00m available_locations]\n\u001b[32m    520\u001b[39m     location = location.lower().replace(\u001b[33m'\u001b[39m\u001b[33m \u001b[39m\u001b[33m'\u001b[39m, \u001b[33m'\u001b[39m\u001b[33m'\u001b[39m)\n",
      "\u001b[36mFile \u001b[39m\u001b[32mc:\\Users\\aesca\\Documents\\TEC\\Académico\\8vo semestre\\Cómputo en la nube\\Servicio-SQL\\myvenv\\Lib\\site-packages\\azureml\\core\\workspace.py:2087\u001b[39m, in \u001b[36m_available_workspace_locations\u001b[39m\u001b[34m(subscription_id, auth)\u001b[39m\n\u001b[32m   2085\u001b[39m \u001b[38;5;28;01mif\u001b[39;00m \u001b[38;5;129;01mnot\u001b[39;00m auth:\n\u001b[32m   2086\u001b[39m     auth = InteractiveLoginAuthentication()\n\u001b[32m-> \u001b[39m\u001b[32m2087\u001b[39m \u001b[38;5;28;01mreturn\u001b[39;00m \u001b[43m_commands\u001b[49m\u001b[43m.\u001b[49m\u001b[43mavailable_workspace_locations\u001b[49m\u001b[43m(\u001b[49m\u001b[43mauth\u001b[49m\u001b[43m,\u001b[49m\u001b[43m \u001b[49m\u001b[43msubscription_id\u001b[49m\u001b[43m)\u001b[49m\n",
      "\u001b[36mFile \u001b[39m\u001b[32mc:\\Users\\aesca\\Documents\\TEC\\Académico\\8vo semestre\\Cómputo en la nube\\Servicio-SQL\\myvenv\\Lib\\site-packages\\azureml\\_project\\_commands.py:429\u001b[39m, in \u001b[36mavailable_workspace_locations\u001b[39m\u001b[34m(auth, subscription_id)\u001b[39m\n\u001b[32m    420\u001b[39m \u001b[38;5;28;01mdef\u001b[39;00m\u001b[38;5;250m \u001b[39m\u001b[34mavailable_workspace_locations\u001b[39m(auth, subscription_id):\n\u001b[32m    421\u001b[39m \u001b[38;5;250m    \u001b[39m\u001b[33;03m\"\"\"Lists available locations/azure regions where an azureml workspace can be created.\u001b[39;00m\n\u001b[32m    422\u001b[39m \u001b[33;03m    :param auth: Authentication object.\u001b[39;00m\n\u001b[32m    423\u001b[39m \u001b[33;03m    :type auth: azureml.core.authentication.AbstractAuthentication\u001b[39;00m\n\u001b[32m   (...)\u001b[39m\u001b[32m    427\u001b[39m \u001b[33;03m    :rtype: list[str]\u001b[39;00m\n\u001b[32m    428\u001b[39m \u001b[33;03m    \"\"\"\u001b[39;00m\n\u001b[32m--> \u001b[39m\u001b[32m429\u001b[39m     response = \u001b[43mauth\u001b[49m\u001b[43m.\u001b[49m\u001b[43m_get_service_client\u001b[49m\u001b[43m(\u001b[49m\u001b[43mResourceManagementClient\u001b[49m\u001b[43m,\u001b[49m\u001b[43m \u001b[49m\u001b[43msubscription_id\u001b[49m\u001b[43m)\u001b[49m.providers.get(\n\u001b[32m    430\u001b[39m         \u001b[33m\"\u001b[39m\u001b[33mMicrosoft.MachineLearningServices\u001b[39m\u001b[33m\"\u001b[39m)\n\u001b[32m    431\u001b[39m     \u001b[38;5;28;01mfor\u001b[39;00m resource_type \u001b[38;5;129;01min\u001b[39;00m response.resource_types:\n\u001b[32m    432\u001b[39m         \u001b[38;5;66;03m# There are multiple resource types like workspaces, 'workspaces/computes', 'operations' and some more.\u001b[39;00m\n\u001b[32m    433\u001b[39m         \u001b[38;5;66;03m# All return the same set of locations.\u001b[39;00m\n\u001b[32m    434\u001b[39m         \u001b[38;5;28;01mif\u001b[39;00m resource_type.resource_type == \u001b[33m\"\u001b[39m\u001b[33mworkspaces\u001b[39m\u001b[33m\"\u001b[39m:\n",
      "\u001b[36mFile \u001b[39m\u001b[32mc:\\Users\\aesca\\Documents\\TEC\\Académico\\8vo semestre\\Cómputo en la nube\\Servicio-SQL\\myvenv\\Lib\\site-packages\\azureml\\core\\authentication.py:230\u001b[39m, in \u001b[36mAbstractAuthentication._get_service_client\u001b[39m\u001b[34m(self, client_class, subscription_id, subscription_bound, base_url, is_check_subscription)\u001b[39m\n\u001b[32m    228\u001b[39m \u001b[38;5;28;01mif\u001b[39;00m subscription_id \u001b[38;5;129;01mand\u001b[39;00m is_check_subscription:\n\u001b[32m    229\u001b[39m     all_subscription_list, tenant_id = \u001b[38;5;28mself\u001b[39m._get_all_subscription_ids()\n\u001b[32m--> \u001b[39m\u001b[32m230\u001b[39m     \u001b[38;5;28;43mself\u001b[39;49m\u001b[43m.\u001b[49m\u001b[43m_check_if_subscription_exists\u001b[49m\u001b[43m(\u001b[49m\u001b[43msubscription_id\u001b[49m\u001b[43m,\u001b[49m\u001b[43m \u001b[49m\u001b[43mall_subscription_list\u001b[49m\u001b[43m,\u001b[49m\u001b[43m \u001b[49m\u001b[43mtenant_id\u001b[49m\u001b[43m)\u001b[49m\n\u001b[32m    232\u001b[39m \u001b[38;5;28;01mif\u001b[39;00m \u001b[38;5;129;01mnot\u001b[39;00m base_url:\n\u001b[32m    233\u001b[39m     base_url = \u001b[38;5;28mself\u001b[39m._cloud_type.endpoints.resource_manager\n",
      "\u001b[36mFile \u001b[39m\u001b[32mc:\\Users\\aesca\\Documents\\TEC\\Académico\\8vo semestre\\Cómputo en la nube\\Servicio-SQL\\myvenv\\Lib\\site-packages\\azureml\\core\\authentication.py:681\u001b[39m, in \u001b[36mInteractiveLoginAuthentication._check_if_subscription_exists\u001b[39m\u001b[34m(self, subscription_id, subscription_id_list, tenant_id)\u001b[39m\n\u001b[32m    680\u001b[39m \u001b[38;5;28;01mdef\u001b[39;00m\u001b[38;5;250m \u001b[39m\u001b[34m_check_if_subscription_exists\u001b[39m(\u001b[38;5;28mself\u001b[39m, subscription_id, subscription_id_list, tenant_id):\n\u001b[32m--> \u001b[39m\u001b[32m681\u001b[39m     \u001b[38;5;28;43msuper\u001b[39;49m\u001b[43m(\u001b[49m\u001b[43mInteractiveLoginAuthentication\u001b[49m\u001b[43m,\u001b[49m\u001b[43m \u001b[49m\u001b[38;5;28;43mself\u001b[39;49m\u001b[43m)\u001b[49m\u001b[43m.\u001b[49m\u001b[43m_check_if_subscription_exists\u001b[49m\u001b[43m(\u001b[49m\u001b[43msubscription_id\u001b[49m\u001b[43m,\u001b[49m\n\u001b[32m    682\u001b[39m \u001b[43m                                                                              \u001b[49m\u001b[43msubscription_id_list\u001b[49m\u001b[43m,\u001b[49m\u001b[43m \u001b[49m\u001b[43mtenant_id\u001b[49m\u001b[43m)\u001b[49m\n",
      "\u001b[36mFile \u001b[39m\u001b[32mc:\\Users\\aesca\\Documents\\TEC\\Académico\\8vo semestre\\Cómputo en la nube\\Servicio-SQL\\myvenv\\Lib\\site-packages\\azureml\\core\\authentication.py:338\u001b[39m, in \u001b[36mAbstractAuthentication._check_if_subscription_exists\u001b[39m\u001b[34m(self, subscription_id, subscription_id_list, tenant_id)\u001b[39m\n\u001b[32m    333\u001b[39m     \u001b[38;5;28;01mraise\u001b[39;00m UserErrorException(\u001b[33m\"\u001b[39m\u001b[33mIt looks like you have specified subscription name, \u001b[39m\u001b[38;5;132;01m{}\u001b[39;00m\u001b[33m, instead of \u001b[39m\u001b[33m\"\u001b[39m\n\u001b[32m    334\u001b[39m                              \u001b[33m\"\u001b[39m\u001b[33msubscription id. Subscription names may not be unique, please specify \u001b[39m\u001b[33m\"\u001b[39m\n\u001b[32m    335\u001b[39m                              \u001b[33m\"\u001b[39m\u001b[33msubscription id from this list \u001b[39m\u001b[38;5;130;01m\\n\u001b[39;00m\u001b[33m \u001b[39m\u001b[38;5;132;01m{}\u001b[39;00m\u001b[33m\"\u001b[39m.format(subscription_id,\n\u001b[32m    336\u001b[39m                                                                            subscription_id_list))\n\u001b[32m    337\u001b[39m \u001b[38;5;28;01melse\u001b[39;00m:\n\u001b[32m--> \u001b[39m\u001b[32m338\u001b[39m     \u001b[38;5;28;01mraise\u001b[39;00m UserErrorException(\u001b[33m\"\u001b[39m\u001b[33mYou are currently logged-in to \u001b[39m\u001b[38;5;132;01m{}\u001b[39;00m\u001b[33m tenant. You don\u001b[39m\u001b[33m'\u001b[39m\u001b[33mt have access \u001b[39m\u001b[33m\"\u001b[39m\n\u001b[32m    339\u001b[39m                              \u001b[33m\"\u001b[39m\u001b[33mto \u001b[39m\u001b[38;5;132;01m{}\u001b[39;00m\u001b[33m subscription, please check if it is in this tenant. \u001b[39m\u001b[33m\"\u001b[39m\n\u001b[32m    340\u001b[39m                              \u001b[33m\"\u001b[39m\u001b[33mAll the subscriptions that you have access to in this tenant are = \u001b[39m\u001b[38;5;130;01m\\n\u001b[39;00m\u001b[33m \u001b[39m\u001b[33m\"\u001b[39m\n\u001b[32m    341\u001b[39m                              \u001b[33m\"\u001b[39m\u001b[38;5;132;01m{}\u001b[39;00m\u001b[33m. \u001b[39m\u001b[38;5;130;01m\\n\u001b[39;00m\u001b[33m Please refer to aka.ms/aml-notebook-auth for different \u001b[39m\u001b[33m\"\u001b[39m\n\u001b[32m    342\u001b[39m                              \u001b[33m\"\u001b[39m\u001b[33mauthentication mechanisms in azureml-sdk.\u001b[39m\u001b[33m\"\u001b[39m.format(tenant_id,\n\u001b[32m    343\u001b[39m                                                                                 subscription_id,\n\u001b[32m    344\u001b[39m                                                                                 subscription_id_list))\n",
      "\u001b[31mUserErrorException\u001b[39m: UserErrorException:\n\tMessage: You are currently logged-in to c65a3ea6-0f7c-400b-8934-5a6dc1705645 tenant. You don't have access to 85122af0-96c1-4e25-b6c8-b59805cf664f subscription, please check if it is in this tenant. All the subscriptions that you have access to in this tenant are = \n [SubscriptionInfo(subscription_name='Visual Studio Enterprise Subscription Cad', subscription_id='90eaa2d9-15dc-4bc3-9c4f-2c580923e179'), SubscriptionInfo(subscription_name='Azure subscription 1', subscription_id='cf842899-b4df-4f27-ba04-2e357f216505')]. \n Please refer to aka.ms/aml-notebook-auth for different authentication mechanisms in azureml-sdk.\n\tInnerException None\n\tErrorResponse \n{\n    \"error\": {\n        \"code\": \"UserError\",\n        \"message\": \"You are currently logged-in to c65a3ea6-0f7c-400b-8934-5a6dc1705645 tenant. You don't have access to 85122af0-96c1-4e25-b6c8-b59805cf664f subscription, please check if it is in this tenant. All the subscriptions that you have access to in this tenant are = \\n [SubscriptionInfo(subscription_name='Visual Studio Enterprise Subscription Cad', subscription_id='90eaa2d9-15dc-4bc3-9c4f-2c580923e179'), SubscriptionInfo(subscription_name='Azure subscription 1', subscription_id='cf842899-b4df-4f27-ba04-2e357f216505')]. \\n Please refer to aka.ms/aml-notebook-auth for different authentication mechanisms in azureml-sdk.\"\n    }\n}"
     ]
    }
   ],
   "source": [
    "from azureml.core.authentication import InteractiveLoginAuthentication\n",
    "interactive_auth = InteractiveLoginAuthentication(tenant_id=\"Instituto Tecnologico y de Estudios Superiores de Monterrey (tecmx.onmicrosoft.com)\") \n",
    "\n",
    "# Crear el workspace de Azure\n",
    "ws = Workspace.create(name=\"Sales-LT-ML\",\n",
    "                   subscription_id=id,\n",
    "                   resource_group='class-servicio-sql',\n",
    "                   location ='centralindia',\n",
    "                   auth = interactive_auth) # centralindia"
   ]
  },
  {
   "cell_type": "code",
   "execution_count": null,
   "id": "a899339b",
   "metadata": {},
   "outputs": [],
   "source": [
    "# Cargar el workspace de Azure\n",
    "ws = Workspace.get(name='Sales-LT-ML', subscription_id=id, resource_group='class-servicio-sql', location='centralindia')"
   ]
  },
  {
   "cell_type": "code",
   "execution_count": null,
   "id": "52964bec",
   "metadata": {},
   "outputs": [],
   "source": [
    "ModelName = 'MyModel'\n",
    "RegisteredModel = Model.register(model_path='model.pkl',model_name=ModelName, workspace=ws)"
   ]
  },
  {
   "cell_type": "code",
   "execution_count": null,
   "id": "e30b6aa6",
   "metadata": {},
   "outputs": [],
   "source": [
    "scorepy = f\"\"\"\n",
    "import json\n",
    "import joblib\n",
    "import numpy as np\n",
    "import pandas as pd\n",
    "from azureml.core.model import Model\n",
    "\n",
    "def init():\n",
    "    global model\n",
    "    model_path = Model.get_model_path('MyModel')\n",
    "    model = joblib.load(model_path)\n",
    "\n",
    "def run(data):\n",
    "    try:\n",
    "        data = json.loads(data)\n",
    "        df = pd.DataFrame(data['data'])\n",
    "\n",
    "        \n",
    "\n",
    "        # Predicción\n",
    "        result = model.predict(df).tolist()\n",
    "        return json.dumps(result)\n",
    "    except Exception as e:\n",
    "        return json.dumps({{\"error\": str(e)}})\n",
    "\"\"\"\n",
    "\n",
    "\n",
    "# Guardar el archivo en la subcarpeta /scripts\n",
    "with open('scripts/score.py', 'w') as f:\n",
    "    f.write(scorepy)\n"
   ]
  }
 ],
 "metadata": {
  "kernelspec": {
   "display_name": "Python 3",
   "language": "python",
   "name": "python3"
  },
  "language_info": {
   "codemirror_mode": {
    "name": "ipython",
    "version": 3
   },
   "file_extension": ".py",
   "mimetype": "text/x-python",
   "name": "python",
   "nbconvert_exporter": "python",
   "pygments_lexer": "ipython3",
   "version": "3.11.2"
  }
 },
 "nbformat": 4,
 "nbformat_minor": 5
}
