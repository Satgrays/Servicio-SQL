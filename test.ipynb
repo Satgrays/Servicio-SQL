{
 "cells": [
  {
   "cell_type": "code",
   "execution_count": null,
   "id": "523b1f2b",
   "metadata": {},
   "outputs": [
    {
     "name": "stdout",
     "output_type": "stream",
     "text": [
      "Connected to the Azure SQL Database successfully!\n"
     ]
    }
   ],
   "source": [
    "import pyodbc\n",
    "import json\n",
    "\n",
    "# Cargar configuración desde el archivo JSON\n",
    "with open('keys.json') as config_file:\n",
    "    config = json.load(config_file)\n",
    "\n",
    "# Set up your connection string\n",
    "server = config['server']\n",
    "database = config['database']\n",
    "username = config['username']\n",
    "password = config['password']\n",
    "\n",
    "# Define the connection string for SQL Server (Azure)\n",
    "conn_str = (\n",
    "    f'DRIVER={{ODBC Driver 18 for SQL Server}};'\n",
    "    f'SERVER={server};'\n",
    "    f'DATABASE={database};'\n",
    "    f'UID={username};'\n",
    "    f'PWD={password}'\n",
    ")\n",
    "\n",
    "# Establish the connection\n",
    "try:\n",
    "    conn = pyodbc.connect(conn_str)\n",
    "    print(\"Connected to the Azure SQL Database successfully!\")\n",
    "\n",
    "except pyodbc.Error as e:\n",
    "    print(f\"Error connecting to the database: {e}\")"
   ]
  },
  {
   "cell_type": "code",
   "execution_count": 46,
   "id": "0e80aebb",
   "metadata": {},
   "outputs": [
    {
     "name": "stdout",
     "output_type": "stream",
     "text": [
      "First day of the dataset:  2005 1 1\n",
      "Last day of the dataset:  2009 12 16\n",
      "    ModifiedDate_year  ModifiedDate_month  ModifiedDate_day\n",
      "0                2005                   8                 1\n",
      "1                2006                   8                 1\n",
      "2                2005                   9                 1\n",
      "3                2006                   7                 1\n",
      "4                2006                   9                 1\n",
      "5                2007                   9                 1\n",
      "6                2006                   7                 1\n",
      "7                2006                   9                 1\n",
      "8                2005                   8                 1\n",
      "9                2006                   8                 1\n",
      "10               2006                   9                 1\n",
      "11               2005                   8                 1\n",
      "12               2007                   4                 1\n",
      "13               2005                   9                 1\n",
      "14               2006                   9                 1\n",
      "15               2005                   8                 1\n",
      "16               2006                   9                 1\n",
      "17               2006                   9                 1\n",
      "18               2006                   9                 1\n",
      "19               2007                   8                 1\n"
     ]
    }
   ],
   "source": [
    "import warnings\n",
    "warnings.filterwarnings(\"ignore\", category=UserWarning)\n",
    "\n",
    "# Execute query and save data into a DataFrame\n",
    "import pandas as pd\n",
    "query = \"SELECT * FROM SalesLT.Customer\"\n",
    "\n",
    "df = pd.read_sql(query, conn)\n",
    "\n",
    "# Library for regression ML\n",
    "from sklearn.model_selection import train_test_split\n",
    "from sklearn.linear_model import LinearRegression\n",
    "from sklearn.metrics import mean_squared_error, r2_score\n",
    "import numpy as np\n",
    "import matplotlib.pyplot as plt\n",
    "\n",
    "# Drop 'Title' , 'FirstName', 'LastName', 'EmailAddress', 'Phone', 'PasswordHash', 'PasswordSalt', 'NameStyle', 'MiddleName', 'Suffix' columns\n",
    "df.drop(columns=['CustomerID', 'Title', 'FirstName', 'LastName', 'EmailAddress', 'Phone', 'PasswordHash', 'PasswordSalt', 'NameStyle', 'MiddleName', 'Suffix', 'rowguid', 'CompanyName', 'SalesPerson'], inplace=True)\n",
    "\n",
    "# COnvert 'ModifiedDate' to datetime and separate into year, month, day\n",
    "df['ModifiedDate'] = pd.to_datetime(df['ModifiedDate'])\n",
    "df['ModifiedDate_year'] = df['ModifiedDate'].dt.year\n",
    "df['ModifiedDate_month'] = df['ModifiedDate'].dt.month\n",
    "df['ModifiedDate_day'] = df['ModifiedDate'].dt.day\n",
    "df.drop(columns=['ModifiedDate'], inplace=True)\n",
    "\n",
    "# Give me first day and last day of this dataset\n",
    "print(\"First day of the dataset: \", df['ModifiedDate_year'].min(), df['ModifiedDate_month'].min(), df['ModifiedDate_day'].min())\n",
    "print(\"Last day of the dataset: \", df['ModifiedDate_year'].max(), df['ModifiedDate_month'].max(), df['ModifiedDate_day'].max())\n",
    "\n",
    "print(df.head(20))"
   ]
  },
  {
   "cell_type": "code",
   "execution_count": 48,
   "id": "bf388b33",
   "metadata": {},
   "outputs": [
    {
     "name": "stdout",
     "output_type": "stream",
     "text": [
      "   ModifiedDate_year  ModifiedDate_month  ModifiedDate_day  label\n",
      "0               2005                   1                 1      0\n",
      "1               2005                   1                 2      0\n",
      "2               2005                   1                 3      0\n",
      "3               2005                   1                 4      0\n",
      "4               2005                   1                 5      0\n"
     ]
    }
   ],
   "source": [
    "import pandas as pd\n",
    "\n",
    "# Paso 1: Generar todas las fechas del rango completo\n",
    "all_dates = pd.date_range(start='2005-01-01', end='2009-12-16', freq='D')\n",
    "df_all = pd.DataFrame({\n",
    "    'ModifiedDate_year': all_dates.year,\n",
    "    'ModifiedDate_month': all_dates.month,\n",
    "    'ModifiedDate_day': all_dates.day\n",
    "})\n",
    "\n",
    "# Paso 2: Asegurar que las fechas originales están bien formateadas\n",
    "df['label'] = 1  # Marcar las fechas existentes como 1\n",
    "\n",
    "# Paso 3: Hacer el merge (left join)\n",
    "df_full = df_all.merge(df[['ModifiedDate_year', 'ModifiedDate_month', 'ModifiedDate_day', 'label']],\n",
    "                       on=['ModifiedDate_year', 'ModifiedDate_month', 'ModifiedDate_day'],\n",
    "                       how='left')\n",
    "\n",
    "# Paso 4: Rellenar fechas faltantes con 0\n",
    "df_full['label'] = df_full['label'].fillna(0).astype(int)\n",
    "\n",
    "# Resultado: df_full tiene una fila por cada día entre 2005-01-01 y 2009-12-16\n",
    "print(df_full.head())"
   ]
  },
  {
   "cell_type": "code",
   "execution_count": 49,
   "id": "f08c6dc1",
   "metadata": {},
   "outputs": [
    {
     "name": "stdout",
     "output_type": "stream",
     "text": [
      "              precision    recall  f1-score   support\n",
      "\n",
      "           0       0.99      1.00      1.00       357\n",
      "           1       1.00      0.99      0.99       170\n",
      "\n",
      "    accuracy                           1.00       527\n",
      "   macro avg       1.00      0.99      1.00       527\n",
      "weighted avg       1.00      1.00      1.00       527\n",
      "\n"
     ]
    }
   ],
   "source": [
    "from sklearn.ensemble import RandomForestClassifier\n",
    "from sklearn.model_selection import train_test_split\n",
    "from sklearn.metrics import classification_report\n",
    "\n",
    "# Paso 1: Seleccionar características (features) y la variable objetivo (label)\n",
    "X = df_full[['ModifiedDate_year', 'ModifiedDate_month', 'ModifiedDate_day']]\n",
    "y = df_full['label']\n",
    "\n",
    "# Paso 2: Dividir en entrenamiento y prueba\n",
    "X_train, X_test, y_train, y_test = train_test_split(X, y, test_size=0.2, random_state=42, stratify=y)\n",
    "\n",
    "# Paso 3: Entrenar el modelo\n",
    "model = RandomForestClassifier(n_estimators=100, random_state=42)\n",
    "model.fit(X_train, y_train)\n",
    "\n",
    "# Paso 4: Evaluar el modelo\n",
    "y_pred = model.predict(X_test)\n",
    "print(classification_report(y_test, y_pred))"
   ]
  }
 ],
 "metadata": {
  "kernelspec": {
   "display_name": "Python 3",
   "language": "python",
   "name": "python3"
  },
  "language_info": {
   "codemirror_mode": {
    "name": "ipython",
    "version": 3
   },
   "file_extension": ".py",
   "mimetype": "text/x-python",
   "name": "python",
   "nbconvert_exporter": "python",
   "pygments_lexer": "ipython3",
   "version": "3.11.2"
  }
 },
 "nbformat": 4,
 "nbformat_minor": 5
}
